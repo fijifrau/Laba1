{
 "cells": [
  {
   "cell_type": "code",
   "execution_count": 1,
   "id": "610775a4",
   "metadata": {},
   "outputs": [
    {
     "name": "stderr",
     "output_type": "stream",
     "text": [
      "/var/folders/j6/fhk9cwt11v5bj1s7_3dhhb8h0000gn/T/ipykernel_58172/415521437.py:5: DeprecationWarning: \n",
      "Pyarrow will become a required dependency of pandas in the next major release of pandas (pandas 3.0),\n",
      "(to allow more performant data types, such as the Arrow string type, and better interoperability with other libraries)\n",
      "but was not found to be installed on your system.\n",
      "If this would cause problems for you,\n",
      "please provide us feedback at https://github.com/pandas-dev/pandas/issues/54466\n",
      "        \n",
      "  import pandas as pd\n"
     ]
    }
   ],
   "source": [
    "import hashlib\n",
    "import json\n",
    "import datetime\n",
    "from flask import Flask, jsonify\n",
    "import pandas as pd"
   ]
  },
  {
   "cell_type": "code",
   "execution_count": 4,
   "id": "2d03c6c7",
   "metadata": {},
   "outputs": [],
   "source": [
    "import subprocess\n",
    "import sys\n",
    "\n",
    "def install_sk():\n",
    "    subprocess.check_call([sys.executable, \"-m\", \"pip\",\"install\", \"--upgrade\", \"psycopg2\"])\n",
    "try:\n",
    "    import psycopg2\n",
    "except:\n",
    "    install_sk()\n",
    "    import psycopg2"
   ]
  },
  {
   "cell_type": "code",
   "execution_count": 13,
   "id": "8fe6ddee",
   "metadata": {},
   "outputs": [
    {
     "data": {
      "text/html": [
       "<div>\n",
       "<style scoped>\n",
       "    .dataframe tbody tr th:only-of-type {\n",
       "        vertical-align: middle;\n",
       "    }\n",
       "\n",
       "    .dataframe tbody tr th {\n",
       "        vertical-align: top;\n",
       "    }\n",
       "\n",
       "    .dataframe thead th {\n",
       "        text-align: right;\n",
       "    }\n",
       "</style>\n",
       "<table border=\"1\" class=\"dataframe\">\n",
       "  <thead>\n",
       "    <tr style=\"text-align: right;\">\n",
       "      <th></th>\n",
       "      <th>0</th>\n",
       "      <th>1</th>\n",
       "      <th>2</th>\n",
       "      <th>3</th>\n",
       "      <th>4</th>\n",
       "      <th>5</th>\n",
       "      <th>6</th>\n",
       "      <th>7</th>\n",
       "      <th>8</th>\n",
       "      <th>9</th>\n",
       "      <th>10</th>\n",
       "      <th>11</th>\n",
       "      <th>12</th>\n",
       "      <th>13</th>\n",
       "    </tr>\n",
       "  </thead>\n",
       "  <tbody>\n",
       "    <tr>\n",
       "      <th>0</th>\n",
       "      <td>1</td>\n",
       "      <td>Иванова Мария Ивановна</td>\n",
       "      <td>1111111111</td>\n",
       "      <td>111111111</td>\n",
       "      <td>ГБОУ Школа 1111</td>\n",
       "      <td>1111111111</td>\n",
       "      <td>111111111</td>\n",
       "      <td>111111111</td>\n",
       "      <td>5000</td>\n",
       "      <td>2024-01-01</td>\n",
       "      <td>40603810450000000005</td>\n",
       "      <td>30101810145250000411</td>\n",
       "      <td>40603810450000000005</td>\n",
       "      <td>30101810145250000411</td>\n",
       "    </tr>\n",
       "  </tbody>\n",
       "</table>\n",
       "</div>"
      ],
      "text/plain": [
       "   0                       1           2          3                4   \\\n",
       "0   1  Иванова Мария Ивановна  1111111111  111111111  ГБОУ Школа 1111   \n",
       "\n",
       "           5          6          7     8           9                     10  \\\n",
       "0  1111111111  111111111  111111111  5000  2024-01-01  40603810450000000005   \n",
       "\n",
       "                     11                    12                    13  \n",
       "0  30101810145250000411  40603810450000000005  30101810145250000411  "
      ]
     },
     "execution_count": 13,
     "metadata": {},
     "output_type": "execute_result"
    }
   ],
   "source": [
    "database"
   ]
  },
  {
   "cell_type": "code",
   "execution_count": 5,
   "id": "cb772848",
   "metadata": {},
   "outputs": [],
   "source": [
    "def connect_db():\n",
    "    conn = psycopg2.connect(dbname='postgres', user='postgres', password='qwerty123', host='localhost', port='5432')\n",
    "    cursor = conn.cursor()\n",
    "    cursor.execute('SELECT * FROM \"data_for_blockchain\"')\n",
    "    df = cursor.fetchall()\n",
    "    df = pd.DataFrame(df)\n",
    "    return df\n",
    "\n",
    "database = connect_db()\n",
    "\n"
   ]
  },
  {
   "cell_type": "code",
   "execution_count": 15,
   "id": "abe09ff0",
   "metadata": {},
   "outputs": [
    {
     "data": {
      "text/plain": [
       "5000"
      ]
     },
     "execution_count": 15,
     "metadata": {},
     "output_type": "execute_result"
    }
   ],
   "source": [
    "database[8]."
   ]
  },
  {
   "cell_type": "code",
   "execution_count": 17,
   "id": "5711fe91",
   "metadata": {},
   "outputs": [],
   "source": [
    "class Blockchain:\n",
    "# Эта функция ниже создана для создания самого первого блока и установки его хэша равным \"0\"\n",
    "   def __init__(self):\n",
    "       self.chain = []\n",
    "       self.create_block(proof=1, previous_hash='0')\n",
    "# Эта функция ниже создана для добавления дополнительных блоков в цепочку\n",
    "   def create_block(self, proof, previous_hash):\n",
    "       block = {'index': len(self.chain) + 1,\n",
    "                'timestamp': str(datetime.datetime.now()),\n",
    "                'fio_payer': str(database[1].iloc[0]),\n",
    "                'inn_payer': str(database[2].iloc[0]),\n",
    "                'bik_payer': str(database[3].iloc[0]),\n",
    "                'name_recep': str(database[4].iloc[0]),\n",
    "                'inn_recep': str(database[5].iloc[0]),\n",
    "                'kpp_recep': str(database[6].iloc[0]),\n",
    "                'bik_recep': str(database[7].iloc[0]),\n",
    "                'sum': str(database[8].iloc[0]),\n",
    "                'date': str(database[9].iloc[0]),\n",
    "                'curr_acc_payer': str(database[10].iloc[0]),\n",
    "                'corr_acc_payer': str(database[11].iloc[0]),\n",
    "                'curr_acc_recep': str(database[12].iloc[0]),\n",
    "                'corr_acc_payer': str(database[13].iloc[0]),\n",
    "                'proof': proof,\n",
    "                'previous_hash': previous_hash}\n",
    "       self.chain.append(block)\n",
    "       return block\n",
    "# Эта функция ниже создана для отображения предыдущего блока\n",
    "   def print_previous_block(self):\n",
    "       return self.chain[-1]\n",
    "# Это функция для проверки работы и используется для успешного майнинга блока\n",
    "   def proof_of_work(self, previous_proof):\n",
    "       new_proof = 1\n",
    "       check_proof = False\n",
    "       while check_proof is False:\n",
    "           hash_operation = hashlib.sha256(\n",
    "               str(new_proof**2 - previous_proof**2).encode()).hexdigest()\n",
    "           if hash_operation[:5] == '00000':\n",
    "               check_proof = True\n",
    "           else:\n",
    "               new_proof += 1\n",
    "       return new_proof\n",
    "   def hash(self, block):\n",
    "       encoded_block = json.dumps(block, sort_keys=True).encode()\n",
    "       return hashlib.sha256(encoded_block).hexdigest()\n",
    "   def chain_valid(self, chain):\n",
    "       previous_block = chain[0]\n",
    "       block_index = 1\n",
    "       while block_index < len(chain):\n",
    "           block = chain[block_index]\n",
    "           if block['previous_hash'] != self.hash(previous_block):\n",
    "               return False\n",
    "           previous_proof = previous_block['proof']\n",
    "           proof = block['proof']\n",
    "           hash_operation = hashlib.sha256(\n",
    "               str(proof**2 - previous_proof**2).encode()).hexdigest()\n",
    "           if hash_operation[:5] != '00000':\n",
    "               return False\n",
    "           previous_block = block\n",
    "           block_index += 1\n",
    "       return True"
   ]
  },
  {
   "cell_type": "code",
   "execution_count": null,
   "id": "5746d987",
   "metadata": {},
   "outputs": [
    {
     "name": "stdout",
     "output_type": "stream",
     "text": [
      " * Serving Flask app '__main__'\n",
      " * Debug mode: off\n"
     ]
    },
    {
     "name": "stderr",
     "output_type": "stream",
     "text": [
      "\u001b[31m\u001b[1mWARNING: This is a development server. Do not use it in a production deployment. Use a production WSGI server instead.\u001b[0m\n",
      " * Running on http://127.0.0.1:5000\n",
      "\u001b[33mPress CTRL+C to quit\u001b[0m\n",
      "127.0.0.1 - - [12/Feb/2024 18:17:41] \"\u001b[33mGET / HTTP/1.1\u001b[0m\" 404 -\n",
      "127.0.0.1 - - [12/Feb/2024 18:17:43] \"\u001b[33mGET /favicon.ico HTTP/1.1\u001b[0m\" 404 -\n",
      "127.0.0.1 - - [12/Feb/2024 18:17:47] \"\u001b[33mGET /main_block HTTP/1.1\u001b[0m\" 404 -\n",
      "127.0.0.1 - - [12/Feb/2024 18:17:58] \"GET /mine_block HTTP/1.1\" 200 -\n"
     ]
    }
   ],
   "source": [
    "# Создание веб-приложения с использованием flask\n",
    "app = Flask(__name__)\n",
    "# Создаем объект класса blockchain\n",
    "blockchain = Blockchain()\n",
    "# Майнинг нового блока\n",
    "@app.route('/mine_block', methods=['GET'])\n",
    "def mine_block():\n",
    "   previous_block = blockchain.print_previous_block()\n",
    "   previous_proof = previous_block['proof']\n",
    "   proof = blockchain.proof_of_work(previous_proof)\n",
    "   previous_hash = blockchain.hash(previous_block)\n",
    "   block = blockchain.create_block(proof, previous_hash)\n",
    "   response = {'message': 'A block is MINED',\n",
    "               'index': block['index'],\n",
    "               'timestamp': block['timestamp'],\n",
    "               'proof': block['proof'],\n",
    "               'previous_hash': block['previous_hash']}\n",
    "   return jsonify(response), 200\n",
    "# Отобразить блокчейн в формате json\n",
    "@app.route('/display_chain', methods=['GET'])\n",
    "def display_chain():\n",
    "   response = {'chain': blockchain.chain,\n",
    "               'length': len(blockchain.chain)}\n",
    "   return jsonify(response), 200\n",
    "# Проверка валидности блокчейна\n",
    "@app.route('/valid', methods=['GET'])\n",
    "def valid():\n",
    "   valid = blockchain.chain_valid(blockchain.chain)\n",
    "   if valid:\n",
    "       response = {'message': 'The Blockchain is valid.'}\n",
    "   else:\n",
    "       response = {'message': 'The Blockchain is not valid.'}\n",
    "   return jsonify(response), 200\n",
    "# Запустите сервер flask локально\n",
    "app.run()"
   ]
  },
  {
   "cell_type": "code",
   "execution_count": null,
   "id": "1757c986",
   "metadata": {},
   "outputs": [],
   "source": []
  }
 ],
 "metadata": {
  "kernelspec": {
   "display_name": "TFmacOS",
   "language": "python",
   "name": "tfmacos"
  },
  "language_info": {
   "codemirror_mode": {
    "name": "ipython",
    "version": 3
   },
   "file_extension": ".py",
   "mimetype": "text/x-python",
   "name": "python",
   "nbconvert_exporter": "python",
   "pygments_lexer": "ipython3",
   "version": "3.9.15"
  },
  "varInspector": {
   "cols": {
    "lenName": 16,
    "lenType": 16,
    "lenVar": 40
   },
   "kernels_config": {
    "python": {
     "delete_cmd_postfix": "",
     "delete_cmd_prefix": "del ",
     "library": "var_list.py",
     "varRefreshCmd": "print(var_dic_list())"
    },
    "r": {
     "delete_cmd_postfix": ") ",
     "delete_cmd_prefix": "rm(",
     "library": "var_list.r",
     "varRefreshCmd": "cat(var_dic_list()) "
    }
   },
   "types_to_exclude": [
    "module",
    "function",
    "builtin_function_or_method",
    "instance",
    "_Feature"
   ],
   "window_display": false
  }
 },
 "nbformat": 4,
 "nbformat_minor": 5
}
